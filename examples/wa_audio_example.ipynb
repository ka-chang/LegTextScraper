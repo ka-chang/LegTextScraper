{
 "cells": [
  {
   "cell_type": "markdown",
   "metadata": {},
   "source": [
    "# StateLegiscraper: Audio Format Example Notebook"
   ]
  },
  {
   "cell_type": "markdown",
   "metadata": {},
   "source": [
    "*Author*: Katherine Chang (kachang@uw.edu)\n",
    "\n",
    "*Last Updated*: 1/3/2022"
   ]
  },
  {
   "cell_type": "markdown",
   "metadata": {},
   "source": [
    "StateLegiscraper is a Python package that scrapes and processes data from U.S. state legislature websites. As of writing, the package is focused on transcribing standing committee hearings from each state legislature from its native archival format to text, so that this text data can be easily used for NLP research purposes and for public review. For more details about the StateLegiscraper, please visit its [Github repository](https://github.com/ka-chang/StateLegiscraper) where it is under active development. "
   ]
  },
  {
   "cell_type": "markdown",
   "metadata": {},
   "source": [
    "This notebook walks a new user through the StateLegiscraper workflow, with a focus on the Washington State Legislature and working with audio file formats. \n",
    "\n",
    "This notebook makes several assumptions about the user, which are that they have:\n",
    "\n",
    "- At least a novice level familiarity with Python, including importing packages, running basic functions, and saving files.\n",
    "- Knowledge of different Python file types, particularily lists and dictionaries. \n",
    "- Comfort working in the command line, as StateLegiscraper is installed through the user's choice of terminal. \n",
    "- Have at least 500 mb of space on their local hard drive or a mounted cloud drive to save the raw data on."
   ]
  },
  {
   "cell_type": "markdown",
   "metadata": {},
   "source": [
    "## The Washington Context"
   ]
  },
  {
   "cell_type": "markdown",
   "metadata": {},
   "source": [
    "Washington hosts theirs standing meeting data as audio and video files, necessitating the use of speech-to-text engines toc onvert the audio to text for NLP analysis. \n",
    "\n",
    "StateLegiscraper provides users with two speech to text engine options: a open source option DeepSpeech and a paid option using Google Cloud's Speech to Text API. The open source engine is employed as default with Google Cloud's option integrated as a helper function for those with interest."
   ]
  },
  {
   "cell_type": "markdown",
   "metadata": {},
   "source": [
    "## Setup"
   ]
  },
  {
   "cell_type": "markdown",
   "metadata": {},
   "source": [
    "Please ensure StateLegiscraper is installed on your local drive. Please refer to the [following instructions for details](https://github.com/ka-chang/StateLegiscraper/blob/main/README.md).\n",
    "\n",
    "The following two code chunks changes the directory to your local StateLegiscraper directory, which allows us to import the modules in to use."
   ]
  },
  {
   "cell_type": "code",
   "execution_count": 1,
   "metadata": {},
   "outputs": [],
   "source": [
    "import os\n",
    "from pathlib import Path\n",
    "import sys"
   ]
  },
  {
   "cell_type": "code",
   "execution_count": 2,
   "metadata": {},
   "outputs": [],
   "source": [
    "github_file_path = str(Path(os.getcwd()).parents[0]) #Sets to local Github directory path\n",
    "\n",
    "sys.path.insert(1, github_file_path) "
   ]
  },
  {
   "cell_type": "markdown",
   "metadata": {},
   "source": [
    "The code chunk below prints your unique local github_file_path. It should end with the Github root directory, /StateLegiscraper/"
   ]
  },
  {
   "cell_type": "code",
   "execution_count": 3,
   "metadata": {},
   "outputs": [
    {
     "name": "stdout",
     "output_type": "stream",
     "text": [
      "/Volumes/GoogleDrive/My Drive/State Legislatures/StateLegiscraper\n"
     ]
    }
   ],
   "source": [
    "print(github_file_path)"
   ]
  },
  {
   "cell_type": "markdown",
   "metadata": {},
   "source": [
    "## Washington Assets"
   ]
  },
  {
   "cell_type": "markdown",
   "metadata": {},
   "source": [
    "Before we start scraping data, we should decide what data we're interested in. As of writing, StateLegiscraper's coverage of Nevada supports scraping PDF transcripts from Nevada's standing committee hearings from 2011-2021. To access the weblinks to scrape the PDF links, we can call on `statelegiscraper.assets.package` module and import `wa_committees`."
   ]
  },
  {
   "cell_type": "code",
   "execution_count": 4,
   "metadata": {},
   "outputs": [],
   "source": [
    "from statelegiscraper.assets.package import wa_committees"
   ]
  },
  {
   "cell_type": "markdown",
   "metadata": {},
   "source": [
    "Let's go ahead and print the wa_committees source so that you can review the file."
   ]
  },
  {
   "cell_type": "code",
   "execution_count": 5,
   "metadata": {},
   "outputs": [],
   "source": [
    "import inspect\n",
    "wa_committees_source = inspect.getsource(wa_committees)"
   ]
  },
  {
   "cell_type": "code",
   "execution_count": 6,
   "metadata": {},
   "outputs": [
    {
     "name": "stdout",
     "output_type": "stream",
     "text": [
      "\"\"\"\n",
      "Standing committee names for Washington State Legislature, \n",
      "organized by chamber and committee name from 2015-2021\n",
      "\"\"\"\n",
      "\n",
      "house_standing =[\n",
      "    \"House Appropriations\",\n",
      "    \"House Capital Budget\",\n",
      "    \"House Children, Youth & Families\",\n",
      "    \"House Civil Rights & Judiciary\",\n",
      "    \"House College & Workforce Development\",\n",
      "    \"House Commerce & Gaming\",\n",
      "    \"House Community & Economic Development\",\n",
      "    \"House Consumer Protection & Business\",\n",
      "    \"House Education\",\n",
      "    \"House Environment\",\n",
      "    \"House Environment & Energy\", #no results in 2017\n",
      "    \"House Finance\",\n",
      "    \"House Health Care & Wellness\",\n",
      "    \"House Housing, Human Services & Veterans\",\n",
      "    \"House Labor & Workplace Standards\",\n",
      "    \"House Local Government\",\n",
      "    \"House Public Safety\",\n",
      "    \"House Rules\",\n",
      "    \"House Rural Development, Agriculture, & Natural Resources\",\n",
      "    \"House State Government & Tribal Relations\",\n",
      "    \"House Transportation\"\n",
      "    ]\n",
      "\n",
      "senate_standing=[\n",
      "    \"Senate Agriculture, Water, Natural Resources & Parks\",\n",
      "    \"Senate Behavioral Health Subcommittee\",\n",
      "    \"Senate Business, Financial Services & Trade\",\n",
      "    \"Senate Early Learning & K-12 Education\",\n",
      "    \"Senate Environment, Energy & Technology\",\n",
      "    \"Senate Health & Long Term Care\",\n",
      "    \"Senate Higher Education & Workforce Development\",\n",
      "    \"Senate Housing & Local Government\",\n",
      "    \"Senate Human Services, Reentry & Rehabilitation\",\n",
      "    \"Senate Labor, Commerce & Tribal Affairs\",\n",
      "    \"Senate Law & Justice\",\n",
      "    \"Senate Rules\",\n",
      "    \"Senate State Government & Elections\",\n",
      "    \"Senate Transportation\",\n",
      "    \"Senate Ways & Means\"\n",
      "]\n",
      "\n"
     ]
    }
   ],
   "source": [
    "print(wa_committees_source)"
   ]
  },
  {
   "cell_type": "code",
   "execution_count": 7,
   "metadata": {},
   "outputs": [
    {
     "data": {
      "text/plain": [
       "['House Appropriations',\n",
       " 'House Capital Budget',\n",
       " 'House Children, Youth & Families',\n",
       " 'House Civil Rights & Judiciary',\n",
       " 'House College & Workforce Development',\n",
       " 'House Commerce & Gaming',\n",
       " 'House Community & Economic Development',\n",
       " 'House Consumer Protection & Business',\n",
       " 'House Education',\n",
       " 'House Environment',\n",
       " 'House Environment & Energy',\n",
       " 'House Finance',\n",
       " 'House Health Care & Wellness',\n",
       " 'House Housing, Human Services & Veterans',\n",
       " 'House Labor & Workplace Standards',\n",
       " 'House Local Government',\n",
       " 'House Public Safety',\n",
       " 'House Rules',\n",
       " 'House Rural Development, Agriculture, & Natural Resources',\n",
       " 'House State Government & Tribal Relations',\n",
       " 'House Transportation']"
      ]
     },
     "execution_count": 7,
     "metadata": {},
     "output_type": "execute_result"
    }
   ],
   "source": [
    "wa_committees.house_standing"
   ]
  },
  {
   "cell_type": "code",
   "execution_count": 8,
   "metadata": {},
   "outputs": [
    {
     "data": {
      "text/plain": [
       "['Senate Agriculture, Water, Natural Resources & Parks',\n",
       " 'Senate Behavioral Health Subcommittee',\n",
       " 'Senate Business, Financial Services & Trade',\n",
       " 'Senate Early Learning & K-12 Education',\n",
       " 'Senate Environment, Energy & Technology',\n",
       " 'Senate Health & Long Term Care',\n",
       " 'Senate Higher Education & Workforce Development',\n",
       " 'Senate Housing & Local Government',\n",
       " 'Senate Human Services, Reentry & Rehabilitation',\n",
       " 'Senate Labor, Commerce & Tribal Affairs',\n",
       " 'Senate Law & Justice',\n",
       " 'Senate Rules',\n",
       " 'Senate State Government & Elections',\n",
       " 'Senate Transportation',\n",
       " 'Senate Ways & Means']"
      ]
     },
     "execution_count": 8,
     "metadata": {},
     "output_type": "execute_result"
    }
   ],
   "source": [
    "wa_committees.senate_standing"
   ]
  },
  {
   "cell_type": "markdown",
   "metadata": {},
   "source": [
    "## Washington Scrape Class"
   ]
  },
  {
   "cell_type": "code",
   "execution_count": null,
   "metadata": {},
   "outputs": [],
   "source": [
    "from statelegiscraper.states.wa import Scrape"
   ]
  },
  {
   "cell_type": "code",
   "execution_count": null,
   "metadata": {},
   "outputs": [],
   "source": [
    "help(Scrape)"
   ]
  },
  {
   "cell_type": "code",
   "execution_count": null,
   "metadata": {},
   "outputs": [],
   "source": [
    "Scrape.wa_scrape_links(\"Senate Transportation\", \"2017\", dir_chrome_webdriver, dir_save)"
   ]
  },
  {
   "cell_type": "markdown",
   "metadata": {},
   "source": [
    "## Speech-to-Text Engines: DeepSpeech vs. Google Cloud"
   ]
  },
  {
   "cell_type": "markdown",
   "metadata": {},
   "source": [
    "There are many strengths and trade-offs between the choice of using an open source engine and a paid engine. The section will cover a couple quick points to get you situated. I encourage you to explore both options if you'd like to consider transcript quality between the two engines. Google Cloud currently provides new users with $300 credits over 3 months, which should be sufficient to become familiar with its strengths."
   ]
  }
 ],
 "metadata": {
  "kernelspec": {
   "display_name": "Python 3 (ipykernel)",
   "language": "python",
   "name": "python3"
  },
  "language_info": {
   "codemirror_mode": {
    "name": "ipython",
    "version": 3
   },
   "file_extension": ".py",
   "mimetype": "text/x-python",
   "name": "python",
   "nbconvert_exporter": "python",
   "pygments_lexer": "ipython3",
   "version": "3.9.7"
  }
 },
 "nbformat": 4,
 "nbformat_minor": 4
}
